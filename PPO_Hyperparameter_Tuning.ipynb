{
  "cells": [
    {
      "cell_type": "markdown",
      "metadata": {
        "id": "9nRFTvnmu3Xl"
      },
      "source": [
        "# **Library Loading**\n"
      ]
    },
    {
      "cell_type": "code",
      "execution_count": null,
      "metadata": {
        "colab": {
          "base_uri": "https://localhost:8080/"
        },
        "id": "A1gU6G4puuDq",
        "outputId": "d64bab28-2a42-4fa3-ec03-77bde1830a99"
      },
      "outputs": [
        {
          "output_type": "stream",
          "name": "stdout",
          "text": [
            "Requirement already satisfied: stable-baselines3[extra] in /usr/local/lib/python3.11/dist-packages (2.6.0)\n",
            "Requirement already satisfied: gymnasium<1.2.0,>=0.29.1 in /usr/local/lib/python3.11/dist-packages (from stable-baselines3[extra]) (1.1.1)\n",
            "Requirement already satisfied: numpy<3.0,>=1.20 in /usr/local/lib/python3.11/dist-packages (from stable-baselines3[extra]) (2.0.2)\n",
            "Requirement already satisfied: torch<3.0,>=2.3 in /usr/local/lib/python3.11/dist-packages (from stable-baselines3[extra]) (2.6.0+cu124)\n",
            "Requirement already satisfied: cloudpickle in /usr/local/lib/python3.11/dist-packages (from stable-baselines3[extra]) (3.1.1)\n",
            "Requirement already satisfied: pandas in /usr/local/lib/python3.11/dist-packages (from stable-baselines3[extra]) (2.2.2)\n",
            "Requirement already satisfied: matplotlib in /usr/local/lib/python3.11/dist-packages (from stable-baselines3[extra]) (3.10.0)\n",
            "Requirement already satisfied: opencv-python in /usr/local/lib/python3.11/dist-packages (from stable-baselines3[extra]) (4.11.0.86)\n",
            "Requirement already satisfied: pygame in /usr/local/lib/python3.11/dist-packages (from stable-baselines3[extra]) (2.6.1)\n",
            "Requirement already satisfied: tensorboard>=2.9.1 in /usr/local/lib/python3.11/dist-packages (from stable-baselines3[extra]) (2.18.0)\n",
            "Requirement already satisfied: psutil in /usr/local/lib/python3.11/dist-packages (from stable-baselines3[extra]) (5.9.5)\n",
            "Requirement already satisfied: tqdm in /usr/local/lib/python3.11/dist-packages (from stable-baselines3[extra]) (4.67.1)\n",
            "Requirement already satisfied: rich in /usr/local/lib/python3.11/dist-packages (from stable-baselines3[extra]) (13.9.4)\n",
            "Requirement already satisfied: ale-py>=0.9.0 in /usr/local/lib/python3.11/dist-packages (from stable-baselines3[extra]) (0.10.2)\n",
            "Requirement already satisfied: pillow in /usr/local/lib/python3.11/dist-packages (from stable-baselines3[extra]) (11.2.1)\n",
            "Requirement already satisfied: typing-extensions>=4.3.0 in /usr/local/lib/python3.11/dist-packages (from gymnasium<1.2.0,>=0.29.1->stable-baselines3[extra]) (4.13.2)\n",
            "Requirement already satisfied: farama-notifications>=0.0.1 in /usr/local/lib/python3.11/dist-packages (from gymnasium<1.2.0,>=0.29.1->stable-baselines3[extra]) (0.0.4)\n",
            "Requirement already satisfied: absl-py>=0.4 in /usr/local/lib/python3.11/dist-packages (from tensorboard>=2.9.1->stable-baselines3[extra]) (1.4.0)\n",
            "Requirement already satisfied: grpcio>=1.48.2 in /usr/local/lib/python3.11/dist-packages (from tensorboard>=2.9.1->stable-baselines3[extra]) (1.71.0)\n",
            "Requirement already satisfied: markdown>=2.6.8 in /usr/local/lib/python3.11/dist-packages (from tensorboard>=2.9.1->stable-baselines3[extra]) (3.8)\n",
            "Requirement already satisfied: packaging in /usr/local/lib/python3.11/dist-packages (from tensorboard>=2.9.1->stable-baselines3[extra]) (24.2)\n",
            "Requirement already satisfied: protobuf!=4.24.0,>=3.19.6 in /usr/local/lib/python3.11/dist-packages (from tensorboard>=2.9.1->stable-baselines3[extra]) (5.29.4)\n",
            "Requirement already satisfied: setuptools>=41.0.0 in /usr/local/lib/python3.11/dist-packages (from tensorboard>=2.9.1->stable-baselines3[extra]) (75.2.0)\n",
            "Requirement already satisfied: six>1.9 in /usr/local/lib/python3.11/dist-packages (from tensorboard>=2.9.1->stable-baselines3[extra]) (1.17.0)\n",
            "Requirement already satisfied: tensorboard-data-server<0.8.0,>=0.7.0 in /usr/local/lib/python3.11/dist-packages (from tensorboard>=2.9.1->stable-baselines3[extra]) (0.7.2)\n",
            "Requirement already satisfied: werkzeug>=1.0.1 in /usr/local/lib/python3.11/dist-packages (from tensorboard>=2.9.1->stable-baselines3[extra]) (3.1.3)\n",
            "Requirement already satisfied: filelock in /usr/local/lib/python3.11/dist-packages (from torch<3.0,>=2.3->stable-baselines3[extra]) (3.18.0)\n",
            "Requirement already satisfied: networkx in /usr/local/lib/python3.11/dist-packages (from torch<3.0,>=2.3->stable-baselines3[extra]) (3.4.2)\n",
            "Requirement already satisfied: jinja2 in /usr/local/lib/python3.11/dist-packages (from torch<3.0,>=2.3->stable-baselines3[extra]) (3.1.6)\n",
            "Requirement already satisfied: fsspec in /usr/local/lib/python3.11/dist-packages (from torch<3.0,>=2.3->stable-baselines3[extra]) (2025.3.2)\n",
            "Requirement already satisfied: nvidia-cuda-nvrtc-cu12==12.4.127 in /usr/local/lib/python3.11/dist-packages (from torch<3.0,>=2.3->stable-baselines3[extra]) (12.4.127)\n",
            "Requirement already satisfied: nvidia-cuda-runtime-cu12==12.4.127 in /usr/local/lib/python3.11/dist-packages (from torch<3.0,>=2.3->stable-baselines3[extra]) (12.4.127)\n",
            "Requirement already satisfied: nvidia-cuda-cupti-cu12==12.4.127 in /usr/local/lib/python3.11/dist-packages (from torch<3.0,>=2.3->stable-baselines3[extra]) (12.4.127)\n",
            "Requirement already satisfied: nvidia-cudnn-cu12==9.1.0.70 in /usr/local/lib/python3.11/dist-packages (from torch<3.0,>=2.3->stable-baselines3[extra]) (9.1.0.70)\n",
            "Requirement already satisfied: nvidia-cublas-cu12==12.4.5.8 in /usr/local/lib/python3.11/dist-packages (from torch<3.0,>=2.3->stable-baselines3[extra]) (12.4.5.8)\n",
            "Requirement already satisfied: nvidia-cufft-cu12==11.2.1.3 in /usr/local/lib/python3.11/dist-packages (from torch<3.0,>=2.3->stable-baselines3[extra]) (11.2.1.3)\n",
            "Requirement already satisfied: nvidia-curand-cu12==10.3.5.147 in /usr/local/lib/python3.11/dist-packages (from torch<3.0,>=2.3->stable-baselines3[extra]) (10.3.5.147)\n",
            "Requirement already satisfied: nvidia-cusolver-cu12==11.6.1.9 in /usr/local/lib/python3.11/dist-packages (from torch<3.0,>=2.3->stable-baselines3[extra]) (11.6.1.9)\n",
            "Requirement already satisfied: nvidia-cusparse-cu12==12.3.1.170 in /usr/local/lib/python3.11/dist-packages (from torch<3.0,>=2.3->stable-baselines3[extra]) (12.3.1.170)\n",
            "Requirement already satisfied: nvidia-cusparselt-cu12==0.6.2 in /usr/local/lib/python3.11/dist-packages (from torch<3.0,>=2.3->stable-baselines3[extra]) (0.6.2)\n",
            "Requirement already satisfied: nvidia-nccl-cu12==2.21.5 in /usr/local/lib/python3.11/dist-packages (from torch<3.0,>=2.3->stable-baselines3[extra]) (2.21.5)\n",
            "Requirement already satisfied: nvidia-nvtx-cu12==12.4.127 in /usr/local/lib/python3.11/dist-packages (from torch<3.0,>=2.3->stable-baselines3[extra]) (12.4.127)\n",
            "Requirement already satisfied: nvidia-nvjitlink-cu12==12.4.127 in /usr/local/lib/python3.11/dist-packages (from torch<3.0,>=2.3->stable-baselines3[extra]) (12.4.127)\n",
            "Requirement already satisfied: triton==3.2.0 in /usr/local/lib/python3.11/dist-packages (from torch<3.0,>=2.3->stable-baselines3[extra]) (3.2.0)\n",
            "Requirement already satisfied: sympy==1.13.1 in /usr/local/lib/python3.11/dist-packages (from torch<3.0,>=2.3->stable-baselines3[extra]) (1.13.1)\n",
            "Requirement already satisfied: mpmath<1.4,>=1.1.0 in /usr/local/lib/python3.11/dist-packages (from sympy==1.13.1->torch<3.0,>=2.3->stable-baselines3[extra]) (1.3.0)\n",
            "Requirement already satisfied: contourpy>=1.0.1 in /usr/local/lib/python3.11/dist-packages (from matplotlib->stable-baselines3[extra]) (1.3.2)\n",
            "Requirement already satisfied: cycler>=0.10 in /usr/local/lib/python3.11/dist-packages (from matplotlib->stable-baselines3[extra]) (0.12.1)\n",
            "Requirement already satisfied: fonttools>=4.22.0 in /usr/local/lib/python3.11/dist-packages (from matplotlib->stable-baselines3[extra]) (4.57.0)\n",
            "Requirement already satisfied: kiwisolver>=1.3.1 in /usr/local/lib/python3.11/dist-packages (from matplotlib->stable-baselines3[extra]) (1.4.8)\n",
            "Requirement already satisfied: pyparsing>=2.3.1 in /usr/local/lib/python3.11/dist-packages (from matplotlib->stable-baselines3[extra]) (3.2.3)\n",
            "Requirement already satisfied: python-dateutil>=2.7 in /usr/local/lib/python3.11/dist-packages (from matplotlib->stable-baselines3[extra]) (2.9.0.post0)\n",
            "Requirement already satisfied: pytz>=2020.1 in /usr/local/lib/python3.11/dist-packages (from pandas->stable-baselines3[extra]) (2025.2)\n",
            "Requirement already satisfied: tzdata>=2022.7 in /usr/local/lib/python3.11/dist-packages (from pandas->stable-baselines3[extra]) (2025.2)\n",
            "Requirement already satisfied: markdown-it-py>=2.2.0 in /usr/local/lib/python3.11/dist-packages (from rich->stable-baselines3[extra]) (3.0.0)\n",
            "Requirement already satisfied: pygments<3.0.0,>=2.13.0 in /usr/local/lib/python3.11/dist-packages (from rich->stable-baselines3[extra]) (2.19.1)\n",
            "Requirement already satisfied: mdurl~=0.1 in /usr/local/lib/python3.11/dist-packages (from markdown-it-py>=2.2.0->rich->stable-baselines3[extra]) (0.1.2)\n",
            "Requirement already satisfied: MarkupSafe>=2.1.1 in /usr/local/lib/python3.11/dist-packages (from werkzeug>=1.0.1->tensorboard>=2.9.1->stable-baselines3[extra]) (3.0.2)\n",
            "Requirement already satisfied: swig in /usr/local/lib/python3.11/dist-packages (4.3.1)\n",
            "Requirement already satisfied: pyvirtualdisplay in /usr/local/lib/python3.11/dist-packages (3.0)\n",
            "Requirement already satisfied: sbx-rl in /usr/local/lib/python3.11/dist-packages (0.20.0)\n",
            "Requirement already satisfied: stable_baselines3<3.0,>=2.5.0 in /usr/local/lib/python3.11/dist-packages (from sbx-rl) (2.6.0)\n",
            "Requirement already satisfied: jax>=0.4.24 in /usr/local/lib/python3.11/dist-packages (from sbx-rl) (0.5.2)\n",
            "Requirement already satisfied: jaxlib in /usr/local/lib/python3.11/dist-packages (from sbx-rl) (0.5.1)\n",
            "Requirement already satisfied: flax in /usr/local/lib/python3.11/dist-packages (from sbx-rl) (0.10.6)\n",
            "Requirement already satisfied: optax in /usr/local/lib/python3.11/dist-packages (from sbx-rl) (0.2.4)\n",
            "Requirement already satisfied: tqdm in /usr/local/lib/python3.11/dist-packages (from sbx-rl) (4.67.1)\n",
            "Requirement already satisfied: rich in /usr/local/lib/python3.11/dist-packages (from sbx-rl) (13.9.4)\n",
            "Requirement already satisfied: tensorflow_probability in /usr/local/lib/python3.11/dist-packages (from sbx-rl) (0.25.0)\n",
            "Requirement already satisfied: ml_dtypes>=0.4.0 in /usr/local/lib/python3.11/dist-packages (from jax>=0.4.24->sbx-rl) (0.4.1)\n",
            "Requirement already satisfied: numpy>=1.25 in /usr/local/lib/python3.11/dist-packages (from jax>=0.4.24->sbx-rl) (2.0.2)\n",
            "Requirement already satisfied: opt_einsum in /usr/local/lib/python3.11/dist-packages (from jax>=0.4.24->sbx-rl) (3.4.0)\n",
            "Requirement already satisfied: scipy>=1.11.1 in /usr/local/lib/python3.11/dist-packages (from jax>=0.4.24->sbx-rl) (1.15.2)\n",
            "Requirement already satisfied: gymnasium<1.2.0,>=0.29.1 in /usr/local/lib/python3.11/dist-packages (from stable_baselines3<3.0,>=2.5.0->sbx-rl) (1.1.1)\n",
            "Requirement already satisfied: torch<3.0,>=2.3 in /usr/local/lib/python3.11/dist-packages (from stable_baselines3<3.0,>=2.5.0->sbx-rl) (2.6.0+cu124)\n",
            "Requirement already satisfied: cloudpickle in /usr/local/lib/python3.11/dist-packages (from stable_baselines3<3.0,>=2.5.0->sbx-rl) (3.1.1)\n",
            "Requirement already satisfied: pandas in /usr/local/lib/python3.11/dist-packages (from stable_baselines3<3.0,>=2.5.0->sbx-rl) (2.2.2)\n",
            "Requirement already satisfied: matplotlib in /usr/local/lib/python3.11/dist-packages (from stable_baselines3<3.0,>=2.5.0->sbx-rl) (3.10.0)\n",
            "Requirement already satisfied: msgpack in /usr/local/lib/python3.11/dist-packages (from flax->sbx-rl) (1.1.0)\n",
            "Requirement already satisfied: orbax-checkpoint in /usr/local/lib/python3.11/dist-packages (from flax->sbx-rl) (0.11.12)\n",
            "Requirement already satisfied: tensorstore in /usr/local/lib/python3.11/dist-packages (from flax->sbx-rl) (0.1.74)\n",
            "Requirement already satisfied: typing_extensions>=4.2 in /usr/local/lib/python3.11/dist-packages (from flax->sbx-rl) (4.13.2)\n",
            "Requirement already satisfied: PyYAML>=5.4.1 in /usr/local/lib/python3.11/dist-packages (from flax->sbx-rl) (6.0.2)\n",
            "Requirement already satisfied: treescope>=0.1.7 in /usr/local/lib/python3.11/dist-packages (from flax->sbx-rl) (0.1.9)\n",
            "Requirement already satisfied: markdown-it-py>=2.2.0 in /usr/local/lib/python3.11/dist-packages (from rich->sbx-rl) (3.0.0)\n",
            "Requirement already satisfied: pygments<3.0.0,>=2.13.0 in /usr/local/lib/python3.11/dist-packages (from rich->sbx-rl) (2.19.1)\n",
            "Requirement already satisfied: absl-py>=0.7.1 in /usr/local/lib/python3.11/dist-packages (from optax->sbx-rl) (1.4.0)\n",
            "Requirement already satisfied: chex>=0.1.87 in /usr/local/lib/python3.11/dist-packages (from optax->sbx-rl) (0.1.89)\n",
            "Requirement already satisfied: etils[epy] in /usr/local/lib/python3.11/dist-packages (from optax->sbx-rl) (1.12.2)\n",
            "Requirement already satisfied: six>=1.10.0 in /usr/local/lib/python3.11/dist-packages (from tensorflow_probability->sbx-rl) (1.17.0)\n",
            "Requirement already satisfied: decorator in /usr/local/lib/python3.11/dist-packages (from tensorflow_probability->sbx-rl) (4.4.2)\n",
            "Requirement already satisfied: gast>=0.3.2 in /usr/local/lib/python3.11/dist-packages (from tensorflow_probability->sbx-rl) (0.6.0)\n",
            "Requirement already satisfied: dm-tree in /usr/local/lib/python3.11/dist-packages (from tensorflow_probability->sbx-rl) (0.1.9)\n",
            "Requirement already satisfied: toolz>=0.9.0 in /usr/local/lib/python3.11/dist-packages (from chex>=0.1.87->optax->sbx-rl) (0.12.1)\n",
            "Requirement already satisfied: farama-notifications>=0.0.1 in /usr/local/lib/python3.11/dist-packages (from gymnasium<1.2.0,>=0.29.1->stable_baselines3<3.0,>=2.5.0->sbx-rl) (0.0.4)\n",
            "Requirement already satisfied: mdurl~=0.1 in /usr/local/lib/python3.11/dist-packages (from markdown-it-py>=2.2.0->rich->sbx-rl) (0.1.2)\n",
            "Requirement already satisfied: filelock in /usr/local/lib/python3.11/dist-packages (from torch<3.0,>=2.3->stable_baselines3<3.0,>=2.5.0->sbx-rl) (3.18.0)\n",
            "Requirement already satisfied: networkx in /usr/local/lib/python3.11/dist-packages (from torch<3.0,>=2.3->stable_baselines3<3.0,>=2.5.0->sbx-rl) (3.4.2)\n",
            "Requirement already satisfied: jinja2 in /usr/local/lib/python3.11/dist-packages (from torch<3.0,>=2.3->stable_baselines3<3.0,>=2.5.0->sbx-rl) (3.1.6)\n",
            "Requirement already satisfied: fsspec in /usr/local/lib/python3.11/dist-packages (from torch<3.0,>=2.3->stable_baselines3<3.0,>=2.5.0->sbx-rl) (2025.3.2)\n",
            "Requirement already satisfied: nvidia-cuda-nvrtc-cu12==12.4.127 in /usr/local/lib/python3.11/dist-packages (from torch<3.0,>=2.3->stable_baselines3<3.0,>=2.5.0->sbx-rl) (12.4.127)\n",
            "Requirement already satisfied: nvidia-cuda-runtime-cu12==12.4.127 in /usr/local/lib/python3.11/dist-packages (from torch<3.0,>=2.3->stable_baselines3<3.0,>=2.5.0->sbx-rl) (12.4.127)\n",
            "Requirement already satisfied: nvidia-cuda-cupti-cu12==12.4.127 in /usr/local/lib/python3.11/dist-packages (from torch<3.0,>=2.3->stable_baselines3<3.0,>=2.5.0->sbx-rl) (12.4.127)\n",
            "Requirement already satisfied: nvidia-cudnn-cu12==9.1.0.70 in /usr/local/lib/python3.11/dist-packages (from torch<3.0,>=2.3->stable_baselines3<3.0,>=2.5.0->sbx-rl) (9.1.0.70)\n",
            "Requirement already satisfied: nvidia-cublas-cu12==12.4.5.8 in /usr/local/lib/python3.11/dist-packages (from torch<3.0,>=2.3->stable_baselines3<3.0,>=2.5.0->sbx-rl) (12.4.5.8)\n",
            "Requirement already satisfied: nvidia-cufft-cu12==11.2.1.3 in /usr/local/lib/python3.11/dist-packages (from torch<3.0,>=2.3->stable_baselines3<3.0,>=2.5.0->sbx-rl) (11.2.1.3)\n",
            "Requirement already satisfied: nvidia-curand-cu12==10.3.5.147 in /usr/local/lib/python3.11/dist-packages (from torch<3.0,>=2.3->stable_baselines3<3.0,>=2.5.0->sbx-rl) (10.3.5.147)\n",
            "Requirement already satisfied: nvidia-cusolver-cu12==11.6.1.9 in /usr/local/lib/python3.11/dist-packages (from torch<3.0,>=2.3->stable_baselines3<3.0,>=2.5.0->sbx-rl) (11.6.1.9)\n",
            "Requirement already satisfied: nvidia-cusparse-cu12==12.3.1.170 in /usr/local/lib/python3.11/dist-packages (from torch<3.0,>=2.3->stable_baselines3<3.0,>=2.5.0->sbx-rl) (12.3.1.170)\n",
            "Requirement already satisfied: nvidia-cusparselt-cu12==0.6.2 in /usr/local/lib/python3.11/dist-packages (from torch<3.0,>=2.3->stable_baselines3<3.0,>=2.5.0->sbx-rl) (0.6.2)\n",
            "Requirement already satisfied: nvidia-nccl-cu12==2.21.5 in /usr/local/lib/python3.11/dist-packages (from torch<3.0,>=2.3->stable_baselines3<3.0,>=2.5.0->sbx-rl) (2.21.5)\n",
            "Requirement already satisfied: nvidia-nvtx-cu12==12.4.127 in /usr/local/lib/python3.11/dist-packages (from torch<3.0,>=2.3->stable_baselines3<3.0,>=2.5.0->sbx-rl) (12.4.127)\n",
            "Requirement already satisfied: nvidia-nvjitlink-cu12==12.4.127 in /usr/local/lib/python3.11/dist-packages (from torch<3.0,>=2.3->stable_baselines3<3.0,>=2.5.0->sbx-rl) (12.4.127)\n",
            "Requirement already satisfied: triton==3.2.0 in /usr/local/lib/python3.11/dist-packages (from torch<3.0,>=2.3->stable_baselines3<3.0,>=2.5.0->sbx-rl) (3.2.0)\n",
            "Requirement already satisfied: sympy==1.13.1 in /usr/local/lib/python3.11/dist-packages (from torch<3.0,>=2.3->stable_baselines3<3.0,>=2.5.0->sbx-rl) (1.13.1)\n",
            "Requirement already satisfied: mpmath<1.4,>=1.1.0 in /usr/local/lib/python3.11/dist-packages (from sympy==1.13.1->torch<3.0,>=2.3->stable_baselines3<3.0,>=2.5.0->sbx-rl) (1.3.0)\n",
            "Requirement already satisfied: attrs>=18.2.0 in /usr/local/lib/python3.11/dist-packages (from dm-tree->tensorflow_probability->sbx-rl) (25.3.0)\n",
            "Requirement already satisfied: wrapt>=1.11.2 in /usr/local/lib/python3.11/dist-packages (from dm-tree->tensorflow_probability->sbx-rl) (1.17.2)\n",
            "Requirement already satisfied: contourpy>=1.0.1 in /usr/local/lib/python3.11/dist-packages (from matplotlib->stable_baselines3<3.0,>=2.5.0->sbx-rl) (1.3.2)\n",
            "Requirement already satisfied: cycler>=0.10 in /usr/local/lib/python3.11/dist-packages (from matplotlib->stable_baselines3<3.0,>=2.5.0->sbx-rl) (0.12.1)\n",
            "Requirement already satisfied: fonttools>=4.22.0 in /usr/local/lib/python3.11/dist-packages (from matplotlib->stable_baselines3<3.0,>=2.5.0->sbx-rl) (4.57.0)\n",
            "Requirement already satisfied: kiwisolver>=1.3.1 in /usr/local/lib/python3.11/dist-packages (from matplotlib->stable_baselines3<3.0,>=2.5.0->sbx-rl) (1.4.8)\n",
            "Requirement already satisfied: packaging>=20.0 in /usr/local/lib/python3.11/dist-packages (from matplotlib->stable_baselines3<3.0,>=2.5.0->sbx-rl) (24.2)\n",
            "Requirement already satisfied: pillow>=8 in /usr/local/lib/python3.11/dist-packages (from matplotlib->stable_baselines3<3.0,>=2.5.0->sbx-rl) (11.2.1)\n",
            "Requirement already satisfied: pyparsing>=2.3.1 in /usr/local/lib/python3.11/dist-packages (from matplotlib->stable_baselines3<3.0,>=2.5.0->sbx-rl) (3.2.3)\n",
            "Requirement already satisfied: python-dateutil>=2.7 in /usr/local/lib/python3.11/dist-packages (from matplotlib->stable_baselines3<3.0,>=2.5.0->sbx-rl) (2.9.0.post0)\n",
            "Requirement already satisfied: nest_asyncio in /usr/local/lib/python3.11/dist-packages (from orbax-checkpoint->flax->sbx-rl) (1.6.0)\n",
            "Requirement already satisfied: protobuf in /usr/local/lib/python3.11/dist-packages (from orbax-checkpoint->flax->sbx-rl) (5.29.4)\n",
            "Requirement already satisfied: humanize in /usr/local/lib/python3.11/dist-packages (from orbax-checkpoint->flax->sbx-rl) (4.12.2)\n",
            "Requirement already satisfied: simplejson>=3.16.0 in /usr/local/lib/python3.11/dist-packages (from orbax-checkpoint->flax->sbx-rl) (3.20.1)\n",
            "Requirement already satisfied: pytz>=2020.1 in /usr/local/lib/python3.11/dist-packages (from pandas->stable_baselines3<3.0,>=2.5.0->sbx-rl) (2025.2)\n",
            "Requirement already satisfied: tzdata>=2022.7 in /usr/local/lib/python3.11/dist-packages (from pandas->stable_baselines3<3.0,>=2.5.0->sbx-rl) (2025.2)\n",
            "Requirement already satisfied: importlib_resources in /usr/local/lib/python3.11/dist-packages (from etils[epy]->optax->sbx-rl) (6.5.2)\n",
            "Requirement already satisfied: zipp in /usr/local/lib/python3.11/dist-packages (from etils[epy]->optax->sbx-rl) (3.21.0)\n",
            "Requirement already satisfied: MarkupSafe>=2.0 in /usr/local/lib/python3.11/dist-packages (from jinja2->torch<3.0,>=2.3->stable_baselines3<3.0,>=2.5.0->sbx-rl) (3.0.2)\n",
            "Requirement already satisfied: optuna in /usr/local/lib/python3.11/dist-packages (4.3.0)\n",
            "Requirement already satisfied: alembic>=1.5.0 in /usr/local/lib/python3.11/dist-packages (from optuna) (1.15.2)\n",
            "Requirement already satisfied: colorlog in /usr/local/lib/python3.11/dist-packages (from optuna) (6.9.0)\n",
            "Requirement already satisfied: numpy in /usr/local/lib/python3.11/dist-packages (from optuna) (2.0.2)\n",
            "Requirement already satisfied: packaging>=20.0 in /usr/local/lib/python3.11/dist-packages (from optuna) (24.2)\n",
            "Requirement already satisfied: sqlalchemy>=1.4.2 in /usr/local/lib/python3.11/dist-packages (from optuna) (2.0.40)\n",
            "Requirement already satisfied: tqdm in /usr/local/lib/python3.11/dist-packages (from optuna) (4.67.1)\n",
            "Requirement already satisfied: PyYAML in /usr/local/lib/python3.11/dist-packages (from optuna) (6.0.2)\n",
            "Requirement already satisfied: Mako in /usr/lib/python3/dist-packages (from alembic>=1.5.0->optuna) (1.1.3)\n",
            "Requirement already satisfied: typing-extensions>=4.12 in /usr/local/lib/python3.11/dist-packages (from alembic>=1.5.0->optuna) (4.13.2)\n",
            "Requirement already satisfied: greenlet>=1 in /usr/local/lib/python3.11/dist-packages (from sqlalchemy>=1.4.2->optuna) (3.2.1)\n",
            "Requirement already satisfied: optuna>=3.3.0 in /usr/local/lib/python3.11/dist-packages (4.3.0)\n",
            "Requirement already satisfied: optuna-dashboard>=0.12.0 in /usr/local/lib/python3.11/dist-packages (0.18.0)\n",
            "Requirement already satisfied: alembic>=1.5.0 in /usr/local/lib/python3.11/dist-packages (from optuna>=3.3.0) (1.15.2)\n",
            "Requirement already satisfied: colorlog in /usr/local/lib/python3.11/dist-packages (from optuna>=3.3.0) (6.9.0)\n",
            "Requirement already satisfied: numpy in /usr/local/lib/python3.11/dist-packages (from optuna>=3.3.0) (2.0.2)\n",
            "Requirement already satisfied: packaging>=20.0 in /usr/local/lib/python3.11/dist-packages (from optuna>=3.3.0) (24.2)\n",
            "Requirement already satisfied: sqlalchemy>=1.4.2 in /usr/local/lib/python3.11/dist-packages (from optuna>=3.3.0) (2.0.40)\n",
            "Requirement already satisfied: tqdm in /usr/local/lib/python3.11/dist-packages (from optuna>=3.3.0) (4.67.1)\n",
            "Requirement already satisfied: PyYAML in /usr/local/lib/python3.11/dist-packages (from optuna>=3.3.0) (6.0.2)\n",
            "Requirement already satisfied: bottle>=0.13.0 in /usr/local/lib/python3.11/dist-packages (from optuna-dashboard>=0.12.0) (0.13.3)\n",
            "Requirement already satisfied: scikit-learn in /usr/local/lib/python3.11/dist-packages (from optuna-dashboard>=0.12.0) (1.6.1)\n",
            "Requirement already satisfied: Mako in /usr/lib/python3/dist-packages (from alembic>=1.5.0->optuna>=3.3.0) (1.1.3)\n",
            "Requirement already satisfied: typing-extensions>=4.12 in /usr/local/lib/python3.11/dist-packages (from alembic>=1.5.0->optuna>=3.3.0) (4.13.2)\n",
            "Requirement already satisfied: greenlet>=1 in /usr/local/lib/python3.11/dist-packages (from sqlalchemy>=1.4.2->optuna>=3.3.0) (3.2.1)\n",
            "Requirement already satisfied: scipy>=1.6.0 in /usr/local/lib/python3.11/dist-packages (from scikit-learn->optuna-dashboard>=0.12.0) (1.15.2)\n",
            "Requirement already satisfied: joblib>=1.2.0 in /usr/local/lib/python3.11/dist-packages (from scikit-learn->optuna-dashboard>=0.12.0) (1.4.2)\n",
            "Requirement already satisfied: threadpoolctl>=3.1.0 in /usr/local/lib/python3.11/dist-packages (from scikit-learn->optuna-dashboard>=0.12.0) (3.6.0)\n"
          ]
        }
      ],
      "source": [
        "!pip install stable-baselines3[extra]\n",
        "!pip install shimmy>=2.0\n",
        "!pip install swig\n",
        "!pip install pyvirtualdisplay\n",
        "!pip install sbx-rl\n",
        "!pip install optuna\n",
        "!pip install \"optuna>=3.3.0\" \"optuna-dashboard>=0.12.0\""
      ]
    },
    {
      "cell_type": "code",
      "execution_count": null,
      "metadata": {
        "id": "dviY7eIeu7o1"
      },
      "outputs": [],
      "source": [
        "import gymnasium as gym\n",
        "from gymnasium import spaces\n",
        "import optuna\n",
        "from optuna.pruners import MedianPruner\n",
        "from optuna.samplers import TPESampler\n",
        "import numpy as np\n",
        "import glob\n",
        "import io\n",
        "import base64\n",
        "from IPython.display import HTML\n",
        "from pyvirtualdisplay import Display\n",
        "from IPython import display as ipythondisplay\n",
        "from stable_baselines3.common.utils import set_random_seed\n",
        "from stable_baselines3.common.vec_env import SubprocVecEnv\n",
        "from stable_baselines3.common.env_util import make_vec_env\n",
        "from math import radians\n",
        "from stable_baselines3.common.evaluation import evaluate_policy\n",
        "from stable_baselines3.common.vec_env import SubprocVecEnv\n",
        "from stable_baselines3 import DQN\n",
        "from stable_baselines3 import PPO\n",
        "from stable_baselines3.common.callbacks import EvalCallback\n",
        "from stable_baselines3.common.monitor import Monitor\n",
        "import random as rand\n",
        "from stable_baselines3.her.her_replay_buffer import HerReplayBuffer\n",
        "from stable_baselines3.common.buffers import ReplayBuffer\n",
        "import torch\n",
        "import torch.nn as nn\n",
        "\n",
        "from typing import Any, Dict"
      ]
    },
    {
      "cell_type": "markdown",
      "metadata": {
        "id": "dtiu1hMdvAA5"
      },
      "source": [
        "# **Video Loading**"
      ]
    },
    {
      "cell_type": "code",
      "execution_count": null,
      "metadata": {
        "id": "fNeIe8XIu_YN"
      },
      "outputs": [],
      "source": [
        "#'eval_video/*.mp4'\n",
        "\n",
        "def show_video(path):\n",
        "    mp4list = glob.glob(path)\n",
        "    if len(mp4list) > 0:\n",
        "        mp4 = mp4list[0]\n",
        "        video = io.open(mp4, 'r+b').read()\n",
        "        encoded = base64.b64encode(video)\n",
        "        ipythondisplay.display(HTML(data='''<video alt=\"test\" autoplay\n",
        "                loop controls style=\"height: 400px;\">\n",
        "                <source src=\"data:video/mp4;base64,{0}\" type=\"video/mp4\" />\n",
        "             </video>'''.format(encoded.decode('ascii'))))\n",
        "    else:\n",
        "        print(\"Could not find video\")"
      ]
    },
    {
      "cell_type": "markdown",
      "metadata": {
        "id": "QLsqQSV0SHmB"
      },
      "source": [
        "# **Clear Training Videos**"
      ]
    },
    {
      "cell_type": "code",
      "execution_count": null,
      "metadata": {
        "id": "lIKug9k2vF7Z"
      },
      "outputs": [],
      "source": [
        "! rm -rf /content/video\n",
        "! rm -rf /content/mountain_cart_tensorboard\n",
        "! rm -rf /content/eval_video_dqn\n",
        "! rm -rf /content/eval_video_ppo"
      ]
    },
    {
      "cell_type": "markdown",
      "metadata": {
        "id": "xfPerZ46SLuX"
      },
      "source": [
        "# **Output Quantizing** [2]"
      ]
    },
    {
      "cell_type": "code",
      "execution_count": null,
      "metadata": {
        "id": "pmKyC4HpvMQ1"
      },
      "outputs": [],
      "source": [
        "def discretize_state_obs(obs, env):\n",
        "  try:\n",
        "    assert not np.any(np.isnan(obs)), \"NaN in obs\"\n",
        "    assert not np.any(np.isinf(obs)), \"inf in obs\"\n",
        "    upper_bounds = env.observation_space.high\n",
        "    lower_bounds = env.observation_space.low\n",
        "    state_buckets = (20, 20)\n",
        "\n",
        "    scaling_factors = [(obs[i] + abs(lower_bounds[i])) / (upper_bounds[i] - lower_bounds[i]) for i in range(len(obs))]\n",
        "    new_obs = [int(round((state_buckets[i] - 1) * scaling_factors[i])) for i in range(len(obs))]\n",
        "    new_obs = [min(max(0, new_obs[i]), state_buckets[i] - 1) for i in range(len(obs))]\n",
        "    return tuple(new_obs)\n",
        "  except Exception as e:\n",
        "    print('Error in discretize_state_obs: ', e)\n",
        "    print(\"OBS: \", obs)\n",
        "    raise e\n"
      ]
    },
    {
      "cell_type": "code",
      "execution_count": null,
      "metadata": {
        "id": "qZMW16ACw5m1"
      },
      "outputs": [],
      "source": [
        "def make_env(env_id, rank, seed=0):\n",
        "    \"\"\"\n",
        "    Utility function for multiprocessed env.\n",
        "\n",
        "    :param env_id: (str) the environment ID\n",
        "    :param seed: (int) the inital seed for RNG\n",
        "    :param rank: (int) index of the subprocess\n",
        "    \"\"\"\n",
        "\n",
        "    def _init():\n",
        "        env = gym.make(env_id)\n",
        "        env = gym.wrappers.TransformObservation(env, lambda obs: discretize_state_obs(obs, env), env.observation_space)\n",
        "        # use a seed for reproducibility\n",
        "        # Important: use a different seed for each environment\n",
        "        # otherwise they would generate the same experiences\n",
        "        env.reset(seed=seed + rank)\n",
        "        return env\n",
        "\n",
        "    set_random_seed(seed)\n",
        "    return _init"
      ]
    },
    {
      "cell_type": "markdown",
      "metadata": {
        "id": "QoQwFNouvWZB"
      },
      "source": [
        "# **Hyperparameter Tuning for PPO**"
      ]
    },
    {
      "cell_type": "code",
      "execution_count": null,
      "metadata": {
        "id": "7OPYrnEJvbZ1"
      },
      "outputs": [],
      "source": [
        "N_ENVS = 16\n",
        "\n",
        "ENV = gym.make(\"MountainCar-v0\")\n",
        "ENV = gym.wrappers.TransformObservation(ENV, lambda obs: discretize_state_obs(obs, ENV), ENV.observation_space)\n",
        "\n",
        "DEFAULT_HYPERPARAMS = {\n",
        "    \"policy\": \"MlpPolicy\",\n",
        "    \"env\": ENV,\n",
        "    \"normalize_advantage\": True\n",
        "}\n",
        "\n",
        "N_TRIALS = 100\n",
        "N_STARTUP_TRIALS = 5\n",
        "N_EVALUATIONS = 5\n",
        "N_TIMESTEPS = int(2e5)\n",
        "EVAL_FREQ = int(N_TIMESTEPS / N_EVALUATIONS)\n",
        "N_EVAL_EPISODES = 100\n",
        "\n",
        "def sample_ppo_params(trial: optuna.Trial) -> Dict[str, Any]:\n",
        "    gamma = 1.0 - trial.suggest_float(\"gamma\", 0.0001, 0.1, log=True)\n",
        "    max_grad_norm = trial.suggest_float(\"max_grad_norm\", 0.3, 5.0, log=True)\n",
        "    gae_lambda = 1.0 - trial.suggest_float(\"gae_lambda\", 0.001, 0.2, log=True)\n",
        "    learning_rate = trial.suggest_float(\"lr\", 1e-5, 1, log=True)\n",
        "    vf_coef = trial.suggest_float(\"vf_coef\", 0.01, 1, log=True)\n",
        "    ent_coef = trial.suggest_float(\"ent_coef\", 0.00001, 0.1, log=True)\n",
        "    n_epochs = trial.suggest_int(\"n_epochs\", 1, 15, log=True)\n",
        "    clip_range = trial.suggest_float(\"clip_range\", 0.1, 0.4, log=True)\n",
        "\n",
        "    return {\n",
        "        \"n_steps\": 1024,\n",
        "        \"n_epochs\": n_epochs,\n",
        "        \"gamma\": gamma,\n",
        "        \"gae_lambda\": gae_lambda,\n",
        "        \"learning_rate\": learning_rate,\n",
        "        \"ent_coef\": ent_coef,\n",
        "        \"vf_coef\":vf_coef,\n",
        "        \"max_grad_norm\": max_grad_norm,\n",
        "        \"clip_range\": clip_range\n",
        "    }\n"
      ]
    },
    {
      "cell_type": "code",
      "execution_count": null,
      "metadata": {
        "id": "8pm5T2-ivtD9"
      },
      "outputs": [],
      "source": [
        "class TrialEvalCallback(EvalCallback):\n",
        "    def __init__(\n",
        "        self,\n",
        "        eval_env: gym.Env,\n",
        "        trial: optuna.Trial,\n",
        "        n_eval_episodes: int = 100,\n",
        "        eval_freq: int = 10000,\n",
        "        deterministic: bool = True,\n",
        "        verbose: int = 0,\n",
        "    ):\n",
        "        super().__init__(\n",
        "            eval_env=eval_env,\n",
        "            n_eval_episodes=n_eval_episodes,\n",
        "            eval_freq=eval_freq,\n",
        "            deterministic=deterministic,\n",
        "            verbose=verbose,\n",
        "        )\n",
        "        self.trial = trial\n",
        "        self.eval_idx = 0\n",
        "        self.is_pruned = False\n",
        "\n",
        "    def _on_step(self) -> bool:\n",
        "        if self.eval_freq > 0 and self.n_calls % self.eval_freq == 0:\n",
        "            super()._on_step()\n",
        "            self.eval_idx += 1\n",
        "            self.trial.report(self.last_mean_reward, self.eval_idx)\n",
        "            # Prune trial if need.\n",
        "            if self.trial.should_prune():\n",
        "                self.is_pruned = True\n",
        "                return False\n",
        "        return True"
      ]
    },
    {
      "cell_type": "code",
      "execution_count": null,
      "metadata": {
        "id": "HNiQXoqtvvgp"
      },
      "outputs": [],
      "source": [
        "def objective(trial: optuna.Trial) -> float:\n",
        "    kwargs = DEFAULT_HYPERPARAMS.copy()\n",
        "    kwargs.update(sample_ppo_params(trial))\n",
        "\n",
        "    # Create the RL model.\n",
        "    model = PPO(**kwargs)\n",
        "    eval_env = gym.make(\"MountainCar-v0\")\n",
        "    eval_env = gym.wrappers.TransformObservation(eval_env, lambda obs: discretize_state_obs(obs, eval_env), eval_env.observation_space)\n",
        "    eval_env = Monitor(eval_env)\n",
        "\n",
        "    eval_callback = TrialEvalCallback(\n",
        "        eval_env, trial, n_eval_episodes=N_EVAL_EPISODES, eval_freq=EVAL_FREQ, deterministic=True\n",
        "    )\n",
        "\n",
        "    nan_encountered = False\n",
        "    try:\n",
        "        model.learn(N_TIMESTEPS, callback=eval_callback)\n",
        "    except AssertionError as e:\n",
        "        # Sometimes, random hyperparams can generate NaN.\n",
        "        print(e)\n",
        "        nan_encountered = True\n",
        "    finally:\n",
        "        # Free memory.\n",
        "        model.env.close()\n",
        "        eval_env.close()\n",
        "\n",
        "    # Tell the optimizer that the trial failed.\n",
        "    if nan_encountered:\n",
        "        return float(\"nan\")\n",
        "\n",
        "    if eval_callback.is_pruned:\n",
        "        raise optuna.exceptions.TrialPruned()\n",
        "\n",
        "    return eval_callback.last_mean_reward"
      ]
    },
    {
      "cell_type": "code",
      "execution_count": null,
      "metadata": {
        "colab": {
          "base_uri": "https://localhost:8080/",
          "height": 34
        },
        "id": "OessxyT8v2Ot",
        "outputId": "63b74e1e-a9f7-4d3e-a1f4-cafb3a493f96"
      },
      "outputs": [
        {
          "output_type": "display_data",
          "data": {
            "text/plain": [
              "\u001b[35m   6%\u001b[0m \u001b[38;2;249;38;114m━━━\u001b[0m\u001b[38;2;249;38;114m╸\u001b[0m\u001b[38;5;237m━━━━━━━━━━━━━━━━━━━━━━━━━━━━━━━━━━━━━━━━━━━━━━━━━━━━━━\u001b[0m \u001b[32m61,785/1,000,000 \u001b[0m [ \u001b[33m5:32:11\u001b[0m < \u001b[36m0:59:33\u001b[0m , \u001b[31m263 it/s\u001b[0m ]\n"
            ],
            "text/html": [
              "<pre style=\"white-space:pre;overflow-x:auto;line-height:normal;font-family:Menlo,'DejaVu Sans Mono',consolas,'Courier New',monospace\"><span style=\"color: #800080; text-decoration-color: #800080\">   6%</span> <span style=\"color: #f92672; text-decoration-color: #f92672\">━━━╸</span><span style=\"color: #3a3a3a; text-decoration-color: #3a3a3a\">━━━━━━━━━━━━━━━━━━━━━━━━━━━━━━━━━━━━━━━━━━━━━━━━━━━━━━</span> <span style=\"color: #008000; text-decoration-color: #008000\">61,785/1,000,000 </span> [ <span style=\"color: #808000; text-decoration-color: #808000\">5:32:11</span> &lt; <span style=\"color: #008080; text-decoration-color: #008080\">0:59:33</span> , <span style=\"color: #800000; text-decoration-color: #800000\">263 it/s</span> ]\n",
              "</pre>\n"
            ]
          },
          "metadata": {}
        }
      ],
      "source": [
        "if __name__ == '__main__':\n",
        "  torch.set_num_threads(1)\n",
        "\n",
        "  sampler = TPESampler(n_startup_trials=N_STARTUP_TRIALS)\n",
        "  pruner = MedianPruner(n_startup_trials=N_STARTUP_TRIALS, n_warmup_steps=N_EVALUATIONS // 4)\n",
        "\n",
        "  study = optuna.create_study(sampler=sampler, storage=\"sqlite:///db.sqlite3\", pruner=pruner, direction=\"maximize\")\n",
        "\n",
        "  try:\n",
        "    study.optimize(objective, n_trials=N_TRIALS, timeout=86400)\n",
        "  except KeyboardInterrupt:\n",
        "    pass\n",
        "  print(\"Number of finished trails; \", len(study.trials))\n",
        "  print(\"Best Trial:\")\n",
        "  trial = study.best_trial\n",
        "\n",
        "  print(\"  Value: \", trial.value)\n",
        "  print(\"  Params: \")\n",
        "  for k, v in trial.params.items():\n",
        "    print(\"    {}: {}\".format(k,v))\n",
        "\n",
        "  print(\"User Attributes:\")\n",
        "  for k,v in trial.user_attrs.items():\n",
        "    print(\"  {}: {}\".format(k,v))\n",
        "\n",
        "  ENV.close()\n",
        "\n"
      ]
    },
    {
      "cell_type": "markdown",
      "source": [
        "## **PPO**"
      ],
      "metadata": {
        "id": "gW84W-P4jokk"
      }
    },
    {
      "cell_type": "code",
      "execution_count": null,
      "metadata": {
        "colab": {
          "base_uri": "https://localhost:8080/",
          "height": 85,
          "referenced_widgets": [
            "766dac849cac4e2db398648922055185",
            "aafa7ee3888d4cd8a0e16e2c279d5fb0"
          ]
        },
        "id": "Xj89HAZVSSr-",
        "outputId": "620db673-e7f7-48e3-b8ac-a7ce8e209c19"
      },
      "outputs": [
        {
          "output_type": "display_data",
          "data": {
            "text/plain": [
              "Output()"
            ],
            "application/vnd.jupyter.widget-view+json": {
              "version_major": 2,
              "version_minor": 0,
              "model_id": "766dac849cac4e2db398648922055185"
            }
          },
          "metadata": {}
        },
        {
          "output_type": "display_data",
          "data": {
            "text/plain": [
              "/usr/local/lib/python3.11/dist-packages/ipywidgets/widgets/widget_output.py:111: DeprecationWarning: \n",
              "Kernel._parent_header is deprecated in ipykernel 6. Use .get_parent()\n",
              "  if ip and hasattr(ip, 'kernel') and hasattr(ip.kernel, '_parent_header'):\n"
            ],
            "text/html": [
              "<pre style=\"white-space:pre;overflow-x:auto;line-height:normal;font-family:Menlo,'DejaVu Sans Mono',consolas,'Courier New',monospace\">/usr/local/lib/python3.11/dist-packages/ipywidgets/widgets/widget_output.py:111: DeprecationWarning: \n",
              "Kernel._parent_header is deprecated in ipykernel 6. Use .get_parent()\n",
              "  if ip and hasattr(ip, 'kernel') and hasattr(ip.kernel, '_parent_header'):\n",
              "</pre>\n"
            ]
          },
          "metadata": {}
        },
        {
          "output_type": "display_data",
          "data": {
            "text/plain": [],
            "text/html": [
              "<pre style=\"white-space:pre;overflow-x:auto;line-height:normal;font-family:Menlo,'DejaVu Sans Mono',consolas,'Courier New',monospace\"></pre>\n"
            ]
          },
          "metadata": {}
        }
      ],
      "source": [
        "#train_env = SubprocVecEnv(\n",
        "#            [make_env(\"MountainCar-v0\", i, rand.randint(0, int(2**32)-1)) for i in range(16)],\n",
        "#            start_method=\"fork\",\n",
        "#        )\n",
        "train_env = gym.make(\"MountainCar-v0\")\n",
        "train_env = gym.wrappers.TransformObservation(train_env, lambda obs: discretize_state_obs(obs, train_env), train_env.observation_space)\n",
        "#train\n",
        "#-104.99 and parameters: {'gamma': 0.003998818000297534, 'max_grad_norm': 0.754852106599228, 'gae_lambda': 0.007067184406571027, 'lr': 0.0004789987110124482, 'vf_coef': 0.012947193897824389, 'ent_coef': 0.00048159514652158363, 'n_epochs': 15}. Best is trial 40 with value: -104.99.\n",
        "#model_ppo = PPO(\"MlpPolicy\", train_env, verbose=0, tensorboard_log=\"./ppo_mountain_cart_tensorboard/\", normalize_advantage=True)\n",
        "model_ppo = PPO(\"MlpPolicy\", train_env, verbose=0,\n",
        "                tensorboard_log=\"./ppo_mountain_cart_tensorboard/\",\n",
        "                normalize_advantage=True,\n",
        "                gamma=1-0.00037648854617733244,\n",
        "                learning_rate=0.0008036518212978304,\n",
        "                max_grad_norm=0.9558861968131098,\n",
        "                gae_lambda=1-0.06267444573408165,\n",
        "                ent_coef=0.035073620842585695,\n",
        "                vf_coef=0.17925670781108438,\n",
        "                n_epochs=12,\n",
        "                clip_range=0.7344958587946594)\n",
        "model_ppo.learn(total_timesteps=int(1000000), log_interval=1, tb_log_name=\"PPOUntunedRun\", progress_bar=True)\n",
        "model_ppo.save(\"ppo_mountain_cart\")\n",
        "\n",
        "train_env.close()"
      ]
    },
    {
      "cell_type": "markdown",
      "source": [
        "## **DQN**"
      ],
      "metadata": {
        "id": "Fk3nHM_SjsD8"
      }
    },
    {
      "cell_type": "code",
      "execution_count": null,
      "metadata": {
        "id": "C3mVguxLSSk7"
      },
      "outputs": [],
      "source": [
        "#train_env = SubprocVecEnv(\n",
        "#            [make_env(\"MountainCar-v0\", i, rand.randint(0, int(2**32)-1)) for i in range(16)],\n",
        "#            start_method=\"fork\",\n",
        "#        )\n",
        "train_env = gym.make(\"MountainCar-v0\")\n",
        "train_env = gym.wrappers.TransformObservation(test_env, lambda obs: discretize_state_obs(obs, test_env), test_env.observation_space)\n",
        "#train\n",
        "#model_dqn = DQN(\"MlpPolicy\", train_env, verbose=0, tensorboard_log=\"./dqn_mountain_cart_tensorboard/\")\n",
        "model_dqn = DQN(\"MlpPolicy\", train_env, verbose=0, tensorboard_log=\"./dqn_mountain_cart_tensorboard/\",\n",
        "                gamma=1- 0.04195072356404917,\n",
        "                max_grad_norm=1.7026730091251607,\n",
        "                tau=0.24348727902136028,\n",
        "                learning_starts=361,\n",
        "                learning_rate=0.0002588035975848367,\n",
        "                train_freq=100,\n",
        "                replay_buffer_class=ReplayBuffer,\n",
        "                buffer_size=69164\n",
        "                )\n",
        "model_dqn.learn(total_timesteps=int(1000000), log_interval=1, tb_log_name=\"DQNUntunedRun\", progress_bar=True)\n",
        "model_dqn.save(\"dqn_mountain_cart\")"
      ]
    },
    {
      "cell_type": "code",
      "execution_count": null,
      "metadata": {
        "colab": {
          "base_uri": "https://localhost:8080/"
        },
        "id": "qFpAH73SZMIL",
        "outputId": "58dd2b51-f356-4aa6-8487-020c5304af95"
      },
      "outputs": [
        {
          "output_type": "stream",
          "name": "stderr",
          "text": [
            "/usr/local/lib/python3.11/dist-packages/stable_baselines3/common/evaluation.py:67: UserWarning: Evaluation environment is not wrapped with a ``Monitor`` wrapper. This may result in reporting modified episode lengths and rewards, if other wrappers happen to modify these. Consider wrapping environment first with ``Monitor`` wrapper.\n",
            "  warnings.warn(\n"
          ]
        },
        {
          "output_type": "stream",
          "name": "stdout",
          "text": [
            "mean_reward=-129.67 +/- 33.62\n"
          ]
        }
      ],
      "source": [
        "test_env = gym.make(\"MountainCar-v0\")\n",
        "test_env = gym.wrappers.TransformObservation(test_env, lambda obs: discretize_state_obs(obs, test_env), test_env.observation_space)\n",
        "#test_env = CustomRewardWrapper(test_env)\n",
        "\n",
        "mean_reward, std_reward = evaluate_policy(model_ppo, test_env, n_eval_episodes=100)\n",
        "\n",
        "print(f\"mean_reward={mean_reward:.2f} +/- {std_reward:.2f}\")\n",
        "\n",
        "test_env.close()"
      ]
    },
    {
      "cell_type": "markdown",
      "metadata": {
        "id": "af22Mtc3kYiK"
      },
      "source": [
        "##**Video**"
      ]
    },
    {
      "cell_type": "code",
      "execution_count": null,
      "metadata": {
        "id": "rmLfggorkYFC"
      },
      "outputs": [],
      "source": [
        "#'eval_video/*.mp4'\n",
        "\n",
        "def show_video(path):\n",
        "    mp4list = glob.glob(path)\n",
        "    if len(mp4list) > 0:\n",
        "        mp4 = mp4list[0]\n",
        "        video = io.open(mp4, 'r+b').read()\n",
        "        encoded = base64.b64encode(video)\n",
        "        ipythondisplay.display(HTML(data='''<video alt=\"test\" autoplay\n",
        "                loop controls style=\"height: 400px;\">\n",
        "                <source src=\"data:video/mp4;base64,{0}\" type=\"video/mp4\" />\n",
        "             </video>'''.format(encoded.decode('ascii'))))\n",
        "    else:\n",
        "        print(\"Could not find video\")"
      ]
    },
    {
      "cell_type": "code",
      "execution_count": null,
      "metadata": {
        "colab": {
          "base_uri": "https://localhost:8080/"
        },
        "id": "FJr_idCrkSYk",
        "outputId": "3e91afac-5bb5-4a48-ccd8-3343a4950216"
      },
      "outputs": [
        {
          "output_type": "stream",
          "name": "stderr",
          "text": [
            "/usr/local/lib/python3.11/dist-packages/moviepy/config_defaults.py:1: DeprecationWarning: invalid escape sequence '\\P'\n",
            "  \"\"\"\n",
            "/usr/local/lib/python3.11/dist-packages/pygame/pkgdata.py:25: DeprecationWarning: pkg_resources is deprecated as an API. See https://setuptools.pypa.io/en/latest/pkg_resources.html\n",
            "  from pkg_resources import resource_stream, resource_exists\n",
            "/usr/local/lib/python3.11/dist-packages/pkg_resources/__init__.py:3154: DeprecationWarning: Deprecated call to `pkg_resources.declare_namespace('google')`.\n",
            "Implementing implicit namespace packages (as specified in PEP 420) is preferred to `pkg_resources.declare_namespace`. See https://setuptools.pypa.io/en/latest/references/keywords.html#keyword-namespace-packages\n",
            "  declare_namespace(pkg)\n",
            "/usr/local/lib/python3.11/dist-packages/pkg_resources/__init__.py:3154: DeprecationWarning: Deprecated call to `pkg_resources.declare_namespace('google.cloud')`.\n",
            "Implementing implicit namespace packages (as specified in PEP 420) is preferred to `pkg_resources.declare_namespace`. See https://setuptools.pypa.io/en/latest/references/keywords.html#keyword-namespace-packages\n",
            "  declare_namespace(pkg)\n",
            "/usr/local/lib/python3.11/dist-packages/pkg_resources/__init__.py:3154: DeprecationWarning: Deprecated call to `pkg_resources.declare_namespace('sphinxcontrib')`.\n",
            "Implementing implicit namespace packages (as specified in PEP 420) is preferred to `pkg_resources.declare_namespace`. See https://setuptools.pypa.io/en/latest/references/keywords.html#keyword-namespace-packages\n",
            "  declare_namespace(pkg)\n"
          ]
        }
      ],
      "source": [
        "eval_env = gym.make(\"MountainCar-v0\", render_mode=\"rgb_array\")\n",
        "eval_env = gym.wrappers.TransformObservation(eval_env, lambda obs: discretize_state_obs(obs, eval_env), eval_env.observation_space)\n",
        "#eval_env = CustomRewardWrapper(eval_env)\n",
        "eval_env = gym.wrappers.RecordVideo(eval_env, 'eval_video_ppo')\n",
        "\n",
        "obs, info = eval_env.reset()\n",
        "steps = 0\n",
        "while True:\n",
        "    steps += 1\n",
        "    action, _states = model_ppo.predict(obs, deterministic=True)\n",
        "    obs, reward, terminated, truncated, info = eval_env.step(action)\n",
        "    if terminated or truncated:\n",
        "        #obs, info = env.reset()\n",
        "        break\n",
        "\n",
        "eval_env.close()"
      ]
    },
    {
      "cell_type": "code",
      "execution_count": null,
      "metadata": {
        "colab": {
          "base_uri": "https://localhost:8080/",
          "height": 439
        },
        "id": "Vqna4uEIkUZa",
        "outputId": "deeed0e5-2786-4ccd-e001-0b652770d037"
      },
      "outputs": [
        {
          "output_type": "stream",
          "name": "stdout",
          "text": [
            "111\n"
          ]
        },
        {
          "output_type": "display_data",
          "data": {
            "text/plain": [
              "<IPython.core.display.HTML object>"
            ],
            "text/html": [
              "<video alt=\"test\" autoplay\n",
              "                loop controls style=\"height: 400px;\">\n",
              "                <source src=\"data:video/mp4;base64,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\" type=\"video/mp4\" />\n",
              "             </video>"
            ]
          },
          "metadata": {}
        }
      ],
      "source": [
        "print(steps)\n",
        "show_video('eval_video_ppo/*.mp4')"
      ]
    }
  ],
  "metadata": {
    "colab": {
      "provenance": []
    },
    "kernelspec": {
      "display_name": "Python 3",
      "name": "python3"
    },
    "language_info": {
      "name": "python"
    },
    "widgets": {
      "application/vnd.jupyter.widget-state+json": {
        "766dac849cac4e2db398648922055185": {
          "model_module": "@jupyter-widgets/output",
          "model_name": "OutputModel",
          "model_module_version": "1.0.0",
          "state": {
            "_dom_classes": [],
            "_model_module": "@jupyter-widgets/output",
            "_model_module_version": "1.0.0",
            "_model_name": "OutputModel",
            "_view_count": null,
            "_view_module": "@jupyter-widgets/output",
            "_view_module_version": "1.0.0",
            "_view_name": "OutputView",
            "layout": "IPY_MODEL_aafa7ee3888d4cd8a0e16e2c279d5fb0",
            "msg_id": "",
            "outputs": [
              {
                "output_type": "display_data",
                "data": {
                  "text/plain": "\u001b[35m 100%\u001b[0m \u001b[38;2;114;156;31m━━━━━━━━━━━━━━━━━━━━━━━━━━━━━━━━━━━━━━━━━━━━━━━━━━━━━━━\u001b[0m \u001b[32m1,001,454/1,000,000 \u001b[0m [ \u001b[33m0:34:08\u001b[0m < \u001b[36m0:00:00\u001b[0m , \u001b[31m528 it/s\u001b[0m ]\n",
                  "text/html": "<pre style=\"white-space:pre;overflow-x:auto;line-height:normal;font-family:Menlo,'DejaVu Sans Mono',consolas,'Courier New',monospace\"><span style=\"color: #800080; text-decoration-color: #800080\"> 100%</span> <span style=\"color: #729c1f; text-decoration-color: #729c1f\">━━━━━━━━━━━━━━━━━━━━━━━━━━━━━━━━━━━━━━━━━━━━━━━━━━━━━━━</span> <span style=\"color: #008000; text-decoration-color: #008000\">1,001,454/1,000,000 </span> [ <span style=\"color: #808000; text-decoration-color: #808000\">0:34:08</span> &lt; <span style=\"color: #008080; text-decoration-color: #008080\">0:00:00</span> , <span style=\"color: #800000; text-decoration-color: #800000\">528 it/s</span> ]\n</pre>\n"
                },
                "metadata": {}
              }
            ]
          }
        },
        "aafa7ee3888d4cd8a0e16e2c279d5fb0": {
          "model_module": "@jupyter-widgets/base",
          "model_name": "LayoutModel",
          "model_module_version": "1.2.0",
          "state": {
            "_model_module": "@jupyter-widgets/base",
            "_model_module_version": "1.2.0",
            "_model_name": "LayoutModel",
            "_view_count": null,
            "_view_module": "@jupyter-widgets/base",
            "_view_module_version": "1.2.0",
            "_view_name": "LayoutView",
            "align_content": null,
            "align_items": null,
            "align_self": null,
            "border": null,
            "bottom": null,
            "display": null,
            "flex": null,
            "flex_flow": null,
            "grid_area": null,
            "grid_auto_columns": null,
            "grid_auto_flow": null,
            "grid_auto_rows": null,
            "grid_column": null,
            "grid_gap": null,
            "grid_row": null,
            "grid_template_areas": null,
            "grid_template_columns": null,
            "grid_template_rows": null,
            "height": null,
            "justify_content": null,
            "justify_items": null,
            "left": null,
            "margin": null,
            "max_height": null,
            "max_width": null,
            "min_height": null,
            "min_width": null,
            "object_fit": null,
            "object_position": null,
            "order": null,
            "overflow": null,
            "overflow_x": null,
            "overflow_y": null,
            "padding": null,
            "right": null,
            "top": null,
            "visibility": null,
            "width": null
          }
        }
      }
    }
  },
  "nbformat": 4,
  "nbformat_minor": 0
}